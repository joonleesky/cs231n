{
 "cells": [
  {
   "cell_type": "markdown",
   "metadata": {},
   "source": [
    "# Softmax exercise\n",
    "\n",
    "*Complete and hand in this completed worksheet (including its outputs and any supporting code outside of the worksheet) with your assignment submission. For more details see the [assignments page](http://vision.stanford.edu/teaching/cs231n/assignments.html) on the course website.*\n",
    "\n",
    "This exercise is analogous to the SVM exercise. You will:\n",
    "\n",
    "- implement a fully-vectorized **loss function** for the Softmax classifier\n",
    "- implement the fully-vectorized expression for its **analytic gradient**\n",
    "- **check your implementation** with numerical gradient\n",
    "- use a validation set to **tune the learning rate and regularization** strength\n",
    "- **optimize** the loss function with **SGD**\n",
    "- **visualize** the final learned weights\n"
   ]
  },
  {
   "cell_type": "code",
   "execution_count": 1,
   "metadata": {
    "collapsed": false
   },
   "outputs": [],
   "source": [
    "import random\n",
    "import numpy as np\n",
    "from cs231n.data_utils import load_CIFAR10\n",
    "import matplotlib.pyplot as plt\n",
    "\n",
    "from __future__ import print_function\n",
    "\n",
    "%matplotlib inline\n",
    "plt.rcParams['figure.figsize'] = (10.0, 8.0) # set default size of plots\n",
    "plt.rcParams['image.interpolation'] = 'nearest'\n",
    "plt.rcParams['image.cmap'] = 'gray'\n",
    "\n",
    "# for auto-reloading extenrnal modules\n",
    "# see http://stackoverflow.com/questions/1907993/autoreload-of-modules-in-ipython\n",
    "%load_ext autoreload\n",
    "%autoreload 2"
   ]
  },
  {
   "cell_type": "code",
   "execution_count": 2,
   "metadata": {
    "collapsed": false
   },
   "outputs": [
    {
     "name": "stdout",
     "output_type": "stream",
     "text": [
      "Train data shape:  (49000, 3073)\n",
      "Train labels shape:  (49000,)\n",
      "Validation data shape:  (1000, 3073)\n",
      "Validation labels shape:  (1000,)\n",
      "Test data shape:  (1000, 3073)\n",
      "Test labels shape:  (1000,)\n",
      "dev data shape:  (500, 3073)\n",
      "dev labels shape:  (500,)\n"
     ]
    }
   ],
   "source": [
    "def get_CIFAR10_data(num_training=49000, num_validation=1000, num_test=1000, num_dev=500):\n",
    "    \"\"\"\n",
    "    Load the CIFAR-10 dataset from disk and perform preprocessing to prepare\n",
    "    it for the linear classifier. These are the same steps as we used for the\n",
    "    SVM, but condensed to a single function.  \n",
    "    \"\"\"\n",
    "    # Load the raw CIFAR-10 data\n",
    "    cifar10_dir = 'cs231n/datasets/cifar-10-batches-py'\n",
    "    X_train, y_train, X_test, y_test = load_CIFAR10(cifar10_dir)\n",
    "    \n",
    "    # subsample the data\n",
    "    mask = list(range(num_training, num_training + num_validation))\n",
    "    X_val = X_train[mask]\n",
    "    y_val = y_train[mask]\n",
    "    mask = list(range(num_training))\n",
    "    X_train = X_train[mask]\n",
    "    y_train = y_train[mask]\n",
    "    mask = list(range(num_test))\n",
    "    X_test = X_test[mask]\n",
    "    y_test = y_test[mask]\n",
    "    mask = np.random.choice(num_training, num_dev, replace=False)\n",
    "    X_dev = X_train[mask]\n",
    "    y_dev = y_train[mask]\n",
    "    \n",
    "    # Preprocessing: reshape the image data into rows\n",
    "    X_train = np.reshape(X_train, (X_train.shape[0], -1))\n",
    "    X_val = np.reshape(X_val, (X_val.shape[0], -1))\n",
    "    X_test = np.reshape(X_test, (X_test.shape[0], -1))\n",
    "    X_dev = np.reshape(X_dev, (X_dev.shape[0], -1))\n",
    "    \n",
    "    # Normalize the data: subtract the mean image\n",
    "    mean_image = np.mean(X_train, axis = 0)\n",
    "    X_train -= mean_image\n",
    "    X_val -= mean_image\n",
    "    X_test -= mean_image\n",
    "    X_dev -= mean_image\n",
    "    \n",
    "    # add bias dimension and transform into columns\n",
    "    X_train = np.hstack([X_train, np.ones((X_train.shape[0], 1))])\n",
    "    X_val = np.hstack([X_val, np.ones((X_val.shape[0], 1))])\n",
    "    X_test = np.hstack([X_test, np.ones((X_test.shape[0], 1))])\n",
    "    X_dev = np.hstack([X_dev, np.ones((X_dev.shape[0], 1))])\n",
    "    \n",
    "    return X_train, y_train, X_val, y_val, X_test, y_test, X_dev, y_dev\n",
    "\n",
    "\n",
    "# Invoke the above function to get our data.\n",
    "X_train, y_train, X_val, y_val, X_test, y_test, X_dev, y_dev = get_CIFAR10_data()\n",
    "print('Train data shape: ', X_train.shape)\n",
    "print('Train labels shape: ', y_train.shape)\n",
    "print('Validation data shape: ', X_val.shape)\n",
    "print('Validation labels shape: ', y_val.shape)\n",
    "print('Test data shape: ', X_test.shape)\n",
    "print('Test labels shape: ', y_test.shape)\n",
    "print('dev data shape: ', X_dev.shape)\n",
    "print('dev labels shape: ', y_dev.shape)"
   ]
  },
  {
   "cell_type": "markdown",
   "metadata": {},
   "source": [
    "## Softmax Classifier\n",
    "\n",
    "Your code for this section will all be written inside **cs231n/classifiers/softmax.py**. \n"
   ]
  },
  {
   "cell_type": "code",
   "execution_count": 9,
   "metadata": {
    "collapsed": false
   },
   "outputs": [
    {
     "name": "stdout",
     "output_type": "stream",
     "text": [
      "loss: 2.328459\n",
      "sanity check: 2.302585\n"
     ]
    }
   ],
   "source": [
    "# First implement the naive softmax loss function with nested loops.\n",
    "# Open the file cs231n/classifiers/softmax.py and implement the\n",
    "# softmax_loss_naive function.\n",
    "\n",
    "from cs231n.classifiers.softmax import softmax_loss_naive\n",
    "import time\n",
    "\n",
    "# Generate a random softmax weight matrix and use it to compute the loss.\n",
    "W = np.random.randn(3073, 10) * 0.0001\n",
    "loss, grad = softmax_loss_naive(W, X_dev, y_dev, 0.0)\n",
    "\n",
    "# As a rough sanity check, our loss should be something close to -log(0.1).\n",
    "print('loss: %f' % loss)\n",
    "print('sanity check: %f' % (-np.log(0.1)))"
   ]
  },
  {
   "cell_type": "markdown",
   "metadata": {},
   "source": [
    "## Inline Question 1:\n",
    "Why do we expect our loss to be close to -log(0.1)? Explain briefly.**\n",
    "\n",
    "**Your answer:** if W is initialized with some random small numbers, probability for each class will be 1/C. Therefore, loss will be something close to -log(1/C) where C is 10 in this case.\n"
   ]
  },
  {
   "cell_type": "code",
   "execution_count": 12,
   "metadata": {
    "collapsed": false
   },
   "outputs": [
    {
     "name": "stdout",
     "output_type": "stream",
     "text": [
      "numerical: -1.983515 analytic: -1.983515, relative error: 1.359199e-09\n",
      "numerical: -2.788528 analytic: -2.788528, relative error: 5.108580e-10\n",
      "numerical: -3.941290 analytic: -3.941290, relative error: 7.369955e-09\n",
      "numerical: -0.889598 analytic: -0.889598, relative error: 3.977067e-08\n",
      "numerical: 1.426077 analytic: 1.426077, relative error: 2.003490e-08\n",
      "numerical: 0.537014 analytic: 0.537014, relative error: 3.631221e-09\n",
      "numerical: -1.755415 analytic: -1.755415, relative error: 2.496381e-09\n",
      "numerical: -2.337586 analytic: -2.337586, relative error: 2.847820e-08\n",
      "numerical: 0.749417 analytic: 0.749417, relative error: 1.440033e-08\n",
      "numerical: 0.672601 analytic: 0.672601, relative error: 9.747737e-09\n",
      "numerical: 0.753447 analytic: 0.753446, relative error: 7.808828e-08\n",
      "numerical: -1.067078 analytic: -1.067078, relative error: 3.184835e-08\n",
      "numerical: 2.083290 analytic: 2.083289, relative error: 2.408670e-08\n",
      "numerical: 1.720204 analytic: 1.720204, relative error: 3.217921e-08\n",
      "numerical: 0.952188 analytic: 0.952188, relative error: 6.284107e-08\n",
      "numerical: -0.904266 analytic: -0.904266, relative error: 4.114047e-09\n",
      "numerical: -1.741537 analytic: -1.741537, relative error: 1.410544e-08\n",
      "numerical: -0.414064 analytic: -0.414064, relative error: 7.503634e-09\n",
      "numerical: 1.452466 analytic: 1.452466, relative error: 1.690219e-08\n",
      "numerical: 2.755208 analytic: 2.755208, relative error: 8.267376e-09\n"
     ]
    }
   ],
   "source": [
    "# Complete the implementation of softmax_loss_naive and implement a (naive)\n",
    "# version of the gradient that uses nested loops.\n",
    "loss, grad = softmax_loss_naive(W, X_dev, y_dev, 0.0)\n",
    "\n",
    "# As we did for the SVM, use numeric gradient checking as a debugging tool.\n",
    "# The numeric gradient should be close to the analytic gradient.\n",
    "from cs231n.gradient_check import grad_check_sparse\n",
    "f = lambda w: softmax_loss_naive(w, X_dev, y_dev, 0.0)[0]\n",
    "grad_numerical = grad_check_sparse(f, W, grad, 10)\n",
    "\n",
    "# similar to SVM case, do another gradient check with regularization\n",
    "loss, grad = softmax_loss_naive(W, X_dev, y_dev, 5e1)\n",
    "f = lambda w: softmax_loss_naive(w, X_dev, y_dev, 5e1)[0]\n",
    "grad_numerical = grad_check_sparse(f, W, grad, 10)"
   ]
  },
  {
   "cell_type": "code",
   "execution_count": 15,
   "metadata": {
    "collapsed": false
   },
   "outputs": [
    {
     "name": "stdout",
     "output_type": "stream",
     "text": [
      "naive loss: 2.328459e+00 computed in 0.029933s\n",
      "vectorized loss: 2.328459e+00 computed in 0.001911s\n",
      "Loss difference: 0.000000\n",
      "Gradient difference: 0.000000\n"
     ]
    }
   ],
   "source": [
    "# Now that we have a naive implementation of the softmax loss function and its gradient,\n",
    "# implement a vectorized version in softmax_loss_vectorized.\n",
    "# The two versions should compute the same results, but the vectorized version should be\n",
    "# much faster.\n",
    "tic = time.time()\n",
    "loss_naive, grad_naive = softmax_loss_naive(W, X_dev, y_dev, 0.000005)\n",
    "toc = time.time()\n",
    "print('naive loss: %e computed in %fs' % (loss_naive, toc - tic))\n",
    "\n",
    "from cs231n.classifiers.softmax import softmax_loss_vectorized\n",
    "tic = time.time()\n",
    "loss_vectorized, grad_vectorized = softmax_loss_vectorized(W, X_dev, y_dev, 0.000005)\n",
    "toc = time.time()\n",
    "print('vectorized loss: %e computed in %fs' % (loss_vectorized, toc - tic))\n",
    "\n",
    "# As we did for the SVM, we use the Frobenius norm to compare the two versions\n",
    "# of the gradient.\n",
    "grad_difference = np.linalg.norm(grad_naive - grad_vectorized, ord='fro')\n",
    "print('Loss difference: %f' % np.abs(loss_naive - loss_vectorized))\n",
    "print('Gradient difference: %f' % grad_difference)"
   ]
  },
  {
   "cell_type": "code",
   "execution_count": 36,
   "metadata": {
    "collapsed": false
   },
   "outputs": [
    {
     "name": "stdout",
     "output_type": "stream",
     "text": [
      "iteration 0 / 5000: loss 6.033976\n",
      "iteration 100 / 5000: loss 3.177816\n",
      "iteration 200 / 5000: loss 2.850473\n",
      "iteration 300 / 5000: loss 2.768672\n",
      "iteration 400 / 5000: loss 2.733879\n",
      "iteration 500 / 5000: loss 2.641018\n",
      "iteration 600 / 5000: loss 2.580787\n",
      "iteration 700 / 5000: loss 2.650158\n",
      "iteration 800 / 5000: loss 2.259166\n",
      "iteration 900 / 5000: loss 2.352881\n",
      "iteration 1000 / 5000: loss 2.391124\n",
      "iteration 1100 / 5000: loss 2.364566\n",
      "iteration 1200 / 5000: loss 2.203326\n",
      "iteration 1300 / 5000: loss 2.360148\n",
      "iteration 1400 / 5000: loss 2.187430\n",
      "iteration 1500 / 5000: loss 2.204069\n",
      "iteration 1600 / 5000: loss 2.214886\n",
      "iteration 1700 / 5000: loss 2.167457\n",
      "iteration 1800 / 5000: loss 2.277786\n",
      "iteration 1900 / 5000: loss 1.933434\n",
      "iteration 2000 / 5000: loss 2.106631\n",
      "iteration 2100 / 5000: loss 2.156145\n",
      "iteration 2200 / 5000: loss 2.078066\n",
      "iteration 2300 / 5000: loss 2.000437\n",
      "iteration 2400 / 5000: loss 2.054995\n",
      "iteration 2500 / 5000: loss 2.139470\n",
      "iteration 2600 / 5000: loss 1.978192\n",
      "iteration 2700 / 5000: loss 1.915516\n",
      "iteration 2800 / 5000: loss 2.148555\n",
      "iteration 2900 / 5000: loss 1.893631\n",
      "iteration 3000 / 5000: loss 2.200047\n",
      "iteration 3100 / 5000: loss 2.012210\n",
      "iteration 3200 / 5000: loss 1.893277\n",
      "iteration 3300 / 5000: loss 2.022637\n",
      "iteration 3400 / 5000: loss 1.977868\n",
      "iteration 3500 / 5000: loss 1.981952\n",
      "iteration 3600 / 5000: loss 2.069525\n",
      "iteration 3700 / 5000: loss 2.131668\n",
      "iteration 3800 / 5000: loss 1.920254\n",
      "iteration 3900 / 5000: loss 1.795947\n",
      "iteration 4000 / 5000: loss 1.875339\n",
      "iteration 4100 / 5000: loss 1.927998\n",
      "iteration 4200 / 5000: loss 1.987959\n",
      "iteration 4300 / 5000: loss 2.047629\n",
      "iteration 4400 / 5000: loss 2.095397\n",
      "iteration 4500 / 5000: loss 1.887184\n",
      "iteration 4600 / 5000: loss 1.899021\n",
      "iteration 4700 / 5000: loss 2.034805\n",
      "iteration 4800 / 5000: loss 1.809549\n",
      "iteration 4900 / 5000: loss 1.871280\n",
      "iteration 0 / 5000: loss 5.116887\n",
      "iteration 100 / 5000: loss 3.203681\n",
      "iteration 200 / 5000: loss 2.949405\n",
      "iteration 300 / 5000: loss 2.545040\n",
      "iteration 400 / 5000: loss 2.681258\n",
      "iteration 500 / 5000: loss 2.624043\n",
      "iteration 600 / 5000: loss 2.322162\n",
      "iteration 700 / 5000: loss 2.364084\n",
      "iteration 800 / 5000: loss 2.436974\n",
      "iteration 900 / 5000: loss 2.209544\n",
      "iteration 1000 / 5000: loss 2.324220\n",
      "iteration 1100 / 5000: loss 2.299534\n",
      "iteration 1200 / 5000: loss 2.238892\n",
      "iteration 1300 / 5000: loss 2.194208\n",
      "iteration 1400 / 5000: loss 2.250100\n",
      "iteration 1500 / 5000: loss 2.190279\n",
      "iteration 1600 / 5000: loss 2.190338\n",
      "iteration 1700 / 5000: loss 2.126303\n",
      "iteration 1800 / 5000: loss 2.149977\n",
      "iteration 1900 / 5000: loss 2.304961\n",
      "iteration 2000 / 5000: loss 2.007961\n",
      "iteration 2100 / 5000: loss 1.968789\n",
      "iteration 2200 / 5000: loss 2.066721\n",
      "iteration 2300 / 5000: loss 2.224796\n",
      "iteration 2400 / 5000: loss 1.984593\n",
      "iteration 2500 / 5000: loss 2.193809\n",
      "iteration 2600 / 5000: loss 2.086815\n",
      "iteration 2700 / 5000: loss 2.188814\n",
      "iteration 2800 / 5000: loss 2.000557\n",
      "iteration 2900 / 5000: loss 1.962854\n",
      "iteration 3000 / 5000: loss 2.165555\n",
      "iteration 3100 / 5000: loss 1.838538\n",
      "iteration 3200 / 5000: loss 1.874530\n",
      "iteration 3300 / 5000: loss 2.033950\n",
      "iteration 3400 / 5000: loss 2.080026\n",
      "iteration 3500 / 5000: loss 1.912775\n",
      "iteration 3600 / 5000: loss 1.901816\n",
      "iteration 3700 / 5000: loss 1.891461\n",
      "iteration 3800 / 5000: loss 1.907361\n",
      "iteration 3900 / 5000: loss 1.940540\n",
      "iteration 4000 / 5000: loss 2.108693\n",
      "iteration 4100 / 5000: loss 2.046726\n",
      "iteration 4200 / 5000: loss 2.026544\n",
      "iteration 4300 / 5000: loss 2.031053\n",
      "iteration 4400 / 5000: loss 1.816597\n",
      "iteration 4500 / 5000: loss 1.903397\n",
      "iteration 4600 / 5000: loss 1.835170\n",
      "iteration 4700 / 5000: loss 1.863746\n",
      "iteration 4800 / 5000: loss 1.984588\n",
      "iteration 4900 / 5000: loss 1.804842\n",
      "iteration 0 / 5000: loss 5.924294\n",
      "iteration 100 / 5000: loss 3.521331\n",
      "iteration 200 / 5000: loss 3.051151\n",
      "iteration 300 / 5000: loss 2.966329\n",
      "iteration 400 / 5000: loss 2.607440\n",
      "iteration 500 / 5000: loss 2.289153\n",
      "iteration 600 / 5000: loss 2.557408\n",
      "iteration 700 / 5000: loss 2.146752\n",
      "iteration 800 / 5000: loss 2.426421\n",
      "iteration 900 / 5000: loss 2.524740\n",
      "iteration 1000 / 5000: loss 2.568123\n",
      "iteration 1100 / 5000: loss 2.366638\n",
      "iteration 1200 / 5000: loss 2.331242\n",
      "iteration 1300 / 5000: loss 2.112254\n",
      "iteration 1400 / 5000: loss 2.144815\n",
      "iteration 1500 / 5000: loss 2.223063\n",
      "iteration 1600 / 5000: loss 2.278786\n",
      "iteration 1700 / 5000: loss 1.952720\n",
      "iteration 1800 / 5000: loss 2.019397\n",
      "iteration 1900 / 5000: loss 2.139275\n",
      "iteration 2000 / 5000: loss 2.115659\n",
      "iteration 2100 / 5000: loss 2.185217\n",
      "iteration 2200 / 5000: loss 2.137012\n",
      "iteration 2300 / 5000: loss 1.882064\n",
      "iteration 2400 / 5000: loss 2.067209\n",
      "iteration 2500 / 5000: loss 2.032398\n",
      "iteration 2600 / 5000: loss 1.845261\n",
      "iteration 2700 / 5000: loss 2.094373\n",
      "iteration 2800 / 5000: loss 2.020233\n",
      "iteration 2900 / 5000: loss 1.896097\n",
      "iteration 3000 / 5000: loss 2.231979\n",
      "iteration 3100 / 5000: loss 1.868080\n",
      "iteration 3200 / 5000: loss 2.136376\n",
      "iteration 3300 / 5000: loss 2.022625\n",
      "iteration 3400 / 5000: loss 2.022906\n",
      "iteration 3500 / 5000: loss 2.050160\n",
      "iteration 3600 / 5000: loss 1.890275\n",
      "iteration 3700 / 5000: loss 1.843867\n",
      "iteration 3800 / 5000: loss 2.034620\n",
      "iteration 3900 / 5000: loss 2.028474\n",
      "iteration 4000 / 5000: loss 2.082084\n",
      "iteration 4100 / 5000: loss 2.006628\n",
      "iteration 4200 / 5000: loss 1.904681\n",
      "iteration 4300 / 5000: loss 1.859800\n",
      "iteration 4400 / 5000: loss 2.034489\n",
      "iteration 4500 / 5000: loss 1.945244\n",
      "iteration 4600 / 5000: loss 2.013741\n",
      "iteration 4700 / 5000: loss 2.123553\n",
      "iteration 4800 / 5000: loss 1.921648\n",
      "iteration 4900 / 5000: loss 2.023366\n",
      "lr 3.000000e-07 reg 1.000000e-09 train accuracy: 0.351429 val accuracy: 0.334000\n",
      "lr 3.000000e-07 reg 3.000000e-09 train accuracy: 0.347449 val accuracy: 0.335000\n",
      "lr 3.000000e-07 reg 1.000000e-08 train accuracy: 0.352898 val accuracy: 0.336000\n",
      "best validation accuracy achieved during cross-validation: 0.336000\n"
     ]
    }
   ],
   "source": [
    "# Use the validation set to tune hyperparameters (regularization strength and\n",
    "# learning rate). You should experiment with different ranges for the learning\n",
    "# rates and regularization strengths; if you are careful you should be able to\n",
    "# get a classification accuracy of over 0.35 on the validation set.\n",
    "from cs231n.classifiers import Softmax\n",
    "results = {}\n",
    "best_val = -1\n",
    "best_softmax = None\n",
    "learning_rates = [3e-7]\n",
    "regularization_strengths = [1e-9,3e-9,1e-8]\n",
    "\n",
    "################################################################################\n",
    "# TODO:                                                                        #\n",
    "# Use the validation set to set the learning rate and regularization strength. #\n",
    "# This should be identical to the validation that you did for the SVM; save    #\n",
    "# the best trained softmax classifer in best_softmax.                          #\n",
    "################################################################################\n",
    "for lr in learning_rates:\n",
    "    for reg in regularization_strengths:\n",
    "        softmax = Softmax()\n",
    "        softmax.train(X_train, y_train, learning_rate=lr, reg=reg,\n",
    "                      num_iters=5000,verbose=True)\n",
    "        y_train_pred = softmax.predict(X_train)\n",
    "        train_acc = np.mean(y_train == y_train_pred)\n",
    "        y_val_pred = softmax.predict(X_val)\n",
    "        val_acc = np.mean(y_val == y_val_pred)\n",
    "        \n",
    "        if val_acc > best_val:\n",
    "            best_val = val_acc\n",
    "            best_softmax = softmax\n",
    "        results[lr,reg] = (train_acc,val_acc)\n",
    "################################################################################\n",
    "#                              END OF YOUR CODE                                #\n",
    "################################################################################\n",
    "    \n",
    "# Print out results.\n",
    "for lr, reg in sorted(results):\n",
    "    train_accuracy, val_accuracy = results[(lr, reg)]\n",
    "    print('lr %e reg %e train accuracy: %f val accuracy: %f' % (\n",
    "                lr, reg, train_accuracy, val_accuracy))\n",
    "    \n",
    "print('best validation accuracy achieved during cross-validation: %f' % best_val)"
   ]
  },
  {
   "cell_type": "code",
   "execution_count": 37,
   "metadata": {
    "collapsed": false
   },
   "outputs": [
    {
     "name": "stdout",
     "output_type": "stream",
     "text": [
      "softmax on raw pixels final test set accuracy: 0.336000\n"
     ]
    }
   ],
   "source": [
    "# evaluate on test set\n",
    "# Evaluate the best softmax on test set\n",
    "y_test_pred = best_softmax.predict(X_test)\n",
    "test_accuracy = np.mean(y_test == y_test_pred)\n",
    "print('softmax on raw pixels final test set accuracy: %f' % (test_accuracy, ))"
   ]
  },
  {
   "cell_type": "code",
   "execution_count": 38,
   "metadata": {
    "collapsed": false
   },
   "outputs": [
    {
     "data": {
      "image/png": "[encoded data removed]",
      "text/plain": [
       "<Figure size 432x288 with 10 Axes>"
      ]
     },
     "metadata": {},
     "output_type": "display_data"
    }
   ],
   "source": [
    "# Visualize the learned weights for each class\n",
    "w = best_softmax.W[:-1,:] # strip out the bias\n",
    "w = w.reshape(32, 32, 3, 10)\n",
    "\n",
    "w_min, w_max = np.min(w), np.max(w)\n",
    "\n",
    "classes = ['plane', 'car', 'bird', 'cat', 'deer', 'dog', 'frog', 'horse', 'ship', 'truck']\n",
    "for i in range(10):\n",
    "    plt.subplot(2, 5, i + 1)\n",
    "    \n",
    "    # Rescale the weights to be between 0 and 255\n",
    "    wimg = 255.0 * (w[:, :, :, i].squeeze() - w_min) / (w_max - w_min)\n",
    "    plt.imshow(wimg.astype('uint8'))\n",
    "    plt.axis('off')\n",
    "    plt.title(classes[i])"
   ]
  },
  {
   "cell_type": "code",
   "execution_count": null,
   "metadata": {},
   "outputs": [],
   "source": []
  }
 ],
 "metadata": {
  "kernelspec": {
   "display_name": "Python 3",
   "language": "python",
   "name": "python3"
  },
  "language_info": {
   "codemirror_mode": {
    "name": "ipython",
    "version": 3
   },
   "file_extension": ".py",
   "mimetype": "text/x-python",
   "name": "python",
   "nbconvert_exporter": "python",
   "pygments_lexer": "ipython3",
   "version": "3.6.4"
  }
 },
 "nbformat": 4,
 "nbformat_minor": 2
}
